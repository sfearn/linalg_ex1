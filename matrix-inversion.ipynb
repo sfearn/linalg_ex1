{
 "cells": [
  {
   "cell_type": "markdown",
   "metadata": {},
   "source": [
    "# Matrix Inversion\n",
    "\n",
    "This notebook is for exercise purposes only. Solutions to the problems will be released in week 9.\n",
    "\n",
    "Here we will look at how to write a matrix inversion routine. This is a classic problem in numerical & computational methods. In a future exercise, we'll look at similar routines that are available in SciPy.\n",
    "\n",
    "\n",
    "## Simultaneous Equations\n",
    "\n",
    "Many problems in physics require solving simultaneous equations. When these become large and complex, numerical routines are required.\n",
    "\n",
    "A set of simultaneous equations can always be written in matrix form, for example, two equations in two unknowns ($x_1$ and $x_2$)\n",
    "\n",
    "$$ax_1 + bx_2 = y_1$$\n",
    "$$cx_1 + dx_2 = y_2$$\n",
    "\n",
    "can be rewritten as\n",
    "\n",
    "$$\\left(\\begin{array}{cc} a & b \\\\ c & d\\end{array}\\right)\n",
    "\\left(\\begin{array}{c} x_1 \\\\ x_2 \\end{array}\\right) = \n",
    "\\left(\\begin{array}{c} y_1 \\\\ y_2 \\end{array}\\right)$$\n",
    "\n",
    "An arbitrary set of equations is\n",
    "\n",
    "$$Ax = y$$\n",
    "\n",
    "where A is the matrix of coefficients, x is the vector of unknown variables $x_1$, $x_2$, ...\n",
    "and b is the known vector of constants. The solution to Equation 1 can be obtained\n",
    "by pre-multiplying by the inverse of A:\n",
    "\n",
    "$$A^{-1} A x = A^{-1} y$$\n",
    "\n",
    "giving :\n",
    "\n",
    "$$x = A^{-1} y$$\n",
    "\n",
    "## Finding the Inverse\n",
    "There are many ways to find the inverse of a matrix.  Here we will use Cramer's rule for a general square matrix :\n",
    "\n",
    "$$A^{-1} = \\frac{1}{\\det{A}}C^T$$\n",
    "\n",
    "where C is the matrix of cofactors of A (or equivalently $C^T$ is the adjugate of A).\n",
    "\n",
    "If we know the order of the input matrix in advance, we could do the algebra to find a formula in terms of the matrix elements. Eg for a $2x2$ matrix we could write :"
   ]
  },
  {
   "cell_type": "code",
   "execution_count": 8,
   "metadata": {},
   "outputs": [],
   "source": [
    "import numpy as np\n",
    "def det2x2(m):\n",
    "    if m.shape[0] != 2 or m.shape[1] != 2:\n",
    "        raise Exception(\"Non2x2Matrix\")\n",
    "    \n",
    "    return ( m[0][0]*m[1][1] ) - ( m[0][1]*m[1][0] )\n",
    "\n",
    "def inverse2x2(m):\n",
    "    if m.shape[0] != 2 or m.shape[1] != 2:\n",
    "        raise Exception(\"Non2x2Matrix\")\n",
    "\n",
    "    det = det2x2(m)\n",
    "    tmp = np.empty([2,2])\n",
    "    tmp[0][0] = m[1][1] / det\n",
    "    tmp[0][1] = -1 * m[0][1] / det\n",
    "    tmp[1][0] = -1 * m[1][0] / det\n",
    "    tmp[1][1] = m[0][0] / det\n",
    "    return tmp"
   ]
  },
  {
   "cell_type": "markdown",
   "metadata": {},
   "source": [
    "(Note that the first thing we do, in both functions, is to check that the user really has given us a $2x2$ matrix...)\n",
    "\n",
    "We could expand this to $3x3$ and $4x4$ matrices, but clearly that is going to get complicated (and error prone) pretty quickly.\n",
    "\n",
    "Instead, if we had methods to calculate the deteriminant and adjugate of a general square matrix, we could just do something like :"
   ]
  },
  {
   "cell_type": "code",
   "execution_count": 9,
   "metadata": {},
   "outputs": [],
   "source": [
    "def inverse(m):\n",
    "    d = det(m)        \n",
    "    c = adjugate(m)\n",
    "    return np.true_divide(c,d)"
   ]
  },
  {
   "cell_type": "markdown",
   "metadata": {},
   "source": [
    "In order to write these functions, it is worth noting that both the determinant and adjugate of a general matrix depend on sub-matrices that are of order $n-1$.  This is easily seen in the Laplace formula for the determinant of a $3 \\times 3$ matrix :\n",
    "\n",
    "\\begin{equation*}\n",
    "\\begin{vmatrix}\n",
    "a && b && c \\\\\n",
    "d && e && f \\\\\n",
    "g && h && i\n",
    "\\end{vmatrix}\n",
    "=\n",
    "a \\begin{vmatrix}\n",
    "e && f \\\\\n",
    "h && i\n",
    "\\end{vmatrix}\n",
    "-b \\begin{vmatrix}\n",
    "d && f \\\\\n",
    "g && i\n",
    "\\end{vmatrix}\n",
    "+\n",
    "c \\begin{vmatrix}\n",
    "d && e \\\\\n",
    "g && h\n",
    "\\end{vmatrix}\n",
    "\\end{equation*}\n",
    "\n",
    "So before writing the det() and adjugate() functions, we write a function to find the $(i,j)^{th}$ sub-matrix of a general square matrix."
   ]
  },
  {
   "cell_type": "code",
   "execution_count": 10,
   "metadata": {},
   "outputs": [],
   "source": [
    "def submatrix(m,i,j):\n",
    "    if not (m.shape[0] == m.shape[1]):\n",
    "        raise Exception(\"NonSquareMatrix\")\n",
    "    \n",
    "    # create a new matrix\n",
    "    n = m.shape[0]-1\n",
    "    tmp = np.empty([n,n])\n",
    "    \n",
    "    # get the indices of the matrix that will be used\n",
    "    tmpi = list(range(m.shape[0]))\n",
    "    del tmpi[i]\n",
    "    tmpj = list(range(m.shape[1]))\n",
    "    del tmpj[j]\n",
    "    \n",
    "    for ii in range(n):\n",
    "        for jj in range(n):\n",
    "            tmp[ii][jj] = m[tmpi[ii]][tmpj[jj]]\n",
    "\n",
    "    return tmp"
   ]
  },
  {
   "cell_type": "markdown",
   "metadata": {},
   "source": [
    "Again, the first thing we do is check that the argument given to the function is suitable for further processing and bail out if it isn't.\n",
    "\n",
    "Next we can write the function that will calculate the determinant (using Laplace's formula) and adjugate of a general square matrix."
   ]
  },
  {
   "cell_type": "code",
   "execution_count": 11,
   "metadata": {},
   "outputs": [],
   "source": [
    "import math\n",
    "def det(m):\n",
    "    if not (m.shape[0] == m.shape[1]):\n",
    "        raise Exception(\"NonSquareMatrix\")\n",
    "    \n",
    "    if (m.shape[0]==2):\n",
    "        return det2x2(m)\n",
    "        \n",
    "    else:\n",
    "        tmp = 0\n",
    "        # use 0-th row to calculate determinant\n",
    "        for j in range(m.shape[0]):\n",
    "            tmp = tmp + (math.pow(-1,j) * m[0][j] * det(submatrix(m,0,j)))\n",
    "    \n",
    "    return tmp\n",
    "\n",
    "def adjugate(m):\n",
    "    if not (m.shape[0] == m.shape[1]):\n",
    "        raise Exception(\"NonSquareMatrix\")\n",
    "    \n",
    "    tmp = np.empty(m.shape)\n",
    "    \n",
    "    for i in range(m.shape[0]):\n",
    "        for j in range(m.shape[1]):\n",
    "            # note the order of indices below !\n",
    "            tmp[j][i] = (math.pow(-1,i+j) * det(submatrix(m,i,j)))\n",
    "    return tmp"
   ]
  },
  {
   "cell_type": "markdown",
   "metadata": {},
   "source": [
    "Note that the determinant uses **recursion**, i.e. it makes calls to _itself_. This is an extremely powerful concept in programming and numerical methods.\n",
    "\n",
    "Although it is not without limitation :\n",
    "https://stackoverflow.com/questions/3323001/what-is-the-maximum-recursion-depth-in-python-and-how-to-increase-it\n",
    "\n",
    "\n",
    "Now we have everything we need for the inverse function. (This time adding some protection against non-square matrices). "
   ]
  },
  {
   "cell_type": "code",
   "execution_count": 12,
   "metadata": {},
   "outputs": [],
   "source": [
    "def inverse(m):\n",
    "    if not (m.shape[0] == m.shape[1]):\n",
    "        raise Exception(\"NonSquareMatrix\")\n",
    "    \n",
    "    if m.shape[0]==2:\n",
    "        return inverse2x2(m)\n",
    "    \n",
    "    d = det(m)        \n",
    "    c = adjugate(m)\n",
    "    return np.true_divide(c,d)"
   ]
  },
  {
   "cell_type": "markdown",
   "metadata": {},
   "source": [
    "We can test this function with a simple matrix :"
   ]
  },
  {
   "cell_type": "code",
   "execution_count": 14,
   "metadata": {},
   "outputs": [
    {
     "name": "stdout",
     "output_type": "stream",
     "text": [
      "[[ 0.          1.          0.        ]\n",
      " [-1.5        -2.          0.5       ]\n",
      " [ 1.33333333  1.         -0.33333333]]\n",
      "[[-0.          1.          0.        ]\n",
      " [-1.5        -2.          0.5       ]\n",
      " [ 1.33333333  1.         -0.33333333]]\n"
     ]
    }
   ],
   "source": [
    "a = np.array([[1,2,3],[1,0,0],[7,8,9]])\n",
    "print(inverse(a))\n",
    "\n",
    "import scipy.linalg\n",
    "print(scipy.linalg.inv(a))"
   ]
  },
  {
   "cell_type": "markdown",
   "metadata": {},
   "source": [
    "But how do we know the answer is correct ?  We could calculate it by hand, say, and check the result given by the function is the same :"
   ]
  },
  {
   "cell_type": "code",
   "execution_count": 15,
   "metadata": {},
   "outputs": [],
   "source": [
    "a = np.array([[1,2,3],[1,0,0],[7,8,9]])\n",
    "inv_a = inverse(a)\n",
    "\n",
    "test = np.array([[0.,1.,0.],[-1.5,-2.,0.5],[1.33333333,1.,-0.33333333]])\n",
    "assert ( np.allclose( test, inv_a, atol=1e-19) )"
   ]
  },
  {
   "cell_type": "markdown",
   "metadata": {},
   "source": [
    "Note the use of numpy.allclose() here, which allows us to avoid sensitivity to rounding errors.  What happens if you try this using np.array_equal() instead ?\n",
    "\n",
    "However, we've only tested one particular case here.  Can you write a more general test function ?"
   ]
  },
  {
   "cell_type": "code",
   "execution_count": null,
   "metadata": {},
   "outputs": [],
   "source": []
  }
 ],
 "metadata": {
  "kernelspec": {
   "display_name": "Python 3",
   "language": "python",
   "name": "python3"
  },
  "language_info": {
   "codemirror_mode": {
    "name": "ipython",
    "version": 3
   },
   "file_extension": ".py",
   "mimetype": "text/x-python",
   "name": "python",
   "nbconvert_exporter": "python",
   "pygments_lexer": "ipython3",
   "version": "3.7.3"
  }
 },
 "nbformat": 4,
 "nbformat_minor": 2
}
